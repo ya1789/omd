{
  "nbformat": 4,
  "nbformat_minor": 5,
  "metadata": {
    "kernelspec": {
      "display_name": "Python 3",
      "language": "python",
      "name": "python3"
    },
    "language_info": {
      "codemirror_mode": {
        "name": "ipython",
        "version": 3
      },
      "file_extension": ".py",
      "mimetype": "text/x-python",
      "name": "python",
      "nbconvert_exporter": "python",
      "pygments_lexer": "ipython3",
      "version": "3.8.8"
    },
    "colab": {
      "name": "hw4.ipynb",
      "provenance": [],
      "collapsed_sections": []
    }
  },
  "cells": [
    {
      "cell_type": "code",
      "metadata": {
        "id": "7c778495"
      },
      "source": [
        "import json"
      ],
      "id": "7c778495",
      "execution_count": 102,
      "outputs": []
    },
    {
      "cell_type": "code",
      "metadata": {
        "id": "f75308b9"
      },
      "source": [
        "class Location():\n",
        "     \"\"\"Класс локаций\"\"\"\n",
        "     def __init__(self, mapping):\n",
        "       \"\"\"Конструктор принимает все атрибуты словаря\"\"\"\n",
        "       self.__dict__.update(mapping)\n",
        "       # находим все вложенные словари и заменяем их на location\n",
        "       for key in self.__dict__.keys():\n",
        "         if type(self.__dict__[key]) == dict:\n",
        "           self.__dict__[key] = Location(self.__dict__[key])\n",
        "\n",
        "\n",
        "class ColorizeMixin():\n",
        "  \"\"\"Миксин для изменения цвета выводимого текста\"\"\"\n",
        "  def colorize(self):\n",
        "    return f' \\033[3;{self.repr_color_code};46m {self} \\n'\n",
        "\n",
        "        \n",
        "class Advert(ColorizeMixin):\n",
        "  \"\"\"Класс объявлений\"\"\"\n",
        "  def __init__(self, mapping):\n",
        "    \"\"\"Конструктор принимает все атрибуты словаря\"\"\"\n",
        "    self.repr_color_code = 32\n",
        "    self.__dict__.update(mapping)\n",
        "    # проверяем условие на неотрицательную цену\n",
        "    if ('price' in self.__dict__):\n",
        "      if self.price < 0:\n",
        "        raise ValueError('must be >= 0')\n",
        "    else:\n",
        "      self.price = 0\n",
        "    # \"распаковываем\" локацию\n",
        "    if ('location' in self.__dict__):\n",
        "      self.location = Location(self.location)\n",
        "        \n",
        "\n",
        "  def __repr__(self):\n",
        "    # вывод названия и цены\n",
        "    return (f'{self.title} | {self.price} ₽')\n",
        "\n"
      ],
      "id": "f75308b9",
      "execution_count": 103,
      "outputs": []
    },
    {
      "cell_type": "code",
      "metadata": {
        "id": "493d9488",
        "colab": {
          "base_uri": "https://localhost:8080/"
        },
        "outputId": "64040129-6f7c-4be4-e945-d2533b456cb1"
      },
      "source": [
        "if __name__ == \"__main__\":\n",
        "  lesson_str = \"\"\"{\n",
        "  \"title\": \"python\",\n",
        "  \"price\": 10,\n",
        "  \"location\": {\n",
        "  \"address\": { \"v\": { \"a\":\"город Москва, Лесная, 7\"}},\n",
        "  \"metro_stations\": [\"Белорусская\"]\n",
        "  }\n",
        "  }\"\"\"\n",
        "  lesson = json.loads(lesson_str)\n",
        "  lesson_ad = Advert(lesson)\n",
        "  print(lesson_ad.location.address.v.a)\n",
        "  print(lesson_ad)\n",
        "  print(lesson_ad.colorize())"
      ],
      "id": "493d9488",
      "execution_count": 104,
      "outputs": [
        {
          "output_type": "stream",
          "name": "stdout",
          "text": [
            "город Москва, Лесная, 7\n",
            "python | 10 ₽\n",
            " \u001b[3;32;46m python | 10 ₽ \n",
            "\n"
          ]
        }
      ]
    },
    {
      "cell_type": "code",
      "metadata": {
        "id": "OxFIdAgIrGJY"
      },
      "source": [
        ""
      ],
      "id": "OxFIdAgIrGJY",
      "execution_count": null,
      "outputs": []
    }
  ]
}