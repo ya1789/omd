{
  "nbformat": 4,
  "nbformat_minor": 0,
  "metadata": {
    "colab": {
      "name": "Untitled12.ipynb",
      "provenance": [],
      "collapsed_sections": []
    },
    "kernelspec": {
      "name": "python3",
      "display_name": "Python 3"
    },
    "language_info": {
      "name": "python"
    }
  },
  "cells": [
    {
      "cell_type": "code",
      "metadata": {
        "id": "rPnbHn0BGbLn"
      },
      "source": [
        "def get_unique(seq):\n",
        "    seen = set()\n",
        "    seen_add = seen.add\n",
        "    return [x for x in seq if not (x in seen or seen_add(x))]"
      ],
      "execution_count": 151,
      "outputs": []
    },
    {
      "cell_type": "code",
      "metadata": {
        "id": "wCfTyuTJFvav"
      },
      "source": [
        "import csv\n",
        "import string"
      ],
      "execution_count": 96,
      "outputs": []
    },
    {
      "cell_type": "code",
      "metadata": {
        "id": "eNDlIvPf7IOm"
      },
      "source": [
        "def menu_for_choice():\n",
        "\n",
        "  \"\"\"\n",
        "  Описывает пользователю функционал и выводит \"кнопки\"\n",
        "    \"\"\"\n",
        "  options = {'Вывести иерархию команд - введите цифру 1': 1,\n",
        "             'Вывести отчет по департаментам - введите цифру 2': 2,\n",
        "             'Сохранить отчет по департаментам  - введите цифру 3': 3,\n",
        "             'Покинуть меню - введите цифру 4': 4}\n",
        "  option = 0\n",
        "  while option != '4':\n",
        "        print('Выберите подходящее ' \n",
        "        'и введите цифру:\\n{}\\n{}\\n{}\\n{}'.format(*options))\n",
        "        option = input()\n",
        "        if option == '1':\n",
        "          get_hierarchy('Corp_Summary.csv')\n",
        "        elif option == '2':\n",
        "          #найденные для отчета элементы печатаем в цикле\n",
        "          print('Сводный отчет')\n",
        "          for row in get_stats('Corp_Summary.csv'):\n",
        "            print(f'Департамент: {row[0]}, Количество сотрудников: {row[1]},',\n",
        "                  f'Мин. зп: {row[2]}, Макс. зп: {row[3]},',\n",
        "                  f'Avg. зп: {row[4]}')\n",
        "            print()\n",
        "        elif option == '3':\n",
        "          get_new_csv('Corp_Summary.csv')"
      ],
      "execution_count": 150,
      "outputs": []
    },
    {
      "cell_type": "code",
      "metadata": {
        "id": "pu58_vHt7nnF"
      },
      "source": [
        "def get_hierarchy(path: string):\n",
        "\n",
        "    \"\"\"\n",
        "    Выводит иерархию команд по департаментам\n",
        "\n",
        "    Параметры:\n",
        "        - path: путь к csv файлу\n",
        "\n",
        "      \"\"\"\n",
        "      \n",
        "    #читаем файл\n",
        "    with open(path, 'r') as file:\n",
        "        my_reader = csv.reader(file, delimiter=';')\n",
        "        depart = []\n",
        "        n = 0\n",
        "        #оставляем департамент и отдел\n",
        "        for row in my_reader:\n",
        "          depart.append([row[1], row[2]])\n",
        "          #переменная для записи результата\n",
        "          result = {}\n",
        "          #пробегаемся по каждому элементу\n",
        "          for sub_tuple in depart:\n",
        "            #если такой департамент уже есть в результате, то\n",
        "            #объединяем имеющиеся там отделы и новые\n",
        "            #если такого департамента нет, добавляем в результат \n",
        "            if sub_tuple[0] in result:\n",
        "                result[sub_tuple[0]] = (*result[sub_tuple[0]], *sub_tuple[1:])\n",
        "                result[sub_tuple[0]] = get_unique(result[sub_tuple[0]])\n",
        "            else:\n",
        "                result[sub_tuple[0]] = sub_tuple\n",
        "    #делаем список и получаем команды\n",
        "    A = list(result.values())\n",
        "    for part in A[1:]:\n",
        "      comm = list(part[1:])\n",
        "      print('Департамент:', part[0], end='\\n')\n",
        "      print('Команды:')\n",
        "      print(*comm, sep = ', ', end = '\\n\\n')\n"
      ],
      "execution_count": 152,
      "outputs": []
    },
    {
      "cell_type": "code",
      "metadata": {
        "id": "mgyiDkzeG53G"
      },
      "source": [
        "def get_stats(path: string):\n",
        "\n",
        "    \"\"\"\n",
        "    Создает список со статистикой\n",
        "\n",
        "    Параметры:\n",
        "        - path: путь к csv файлу\n",
        "\n",
        "    Возвращает:\n",
        "        - возвращает 2д список с данными\n",
        "      \"\"\"\n",
        "\n",
        "    #читаем файл и записываем в список\n",
        "    with open(path, 'r') as file:\n",
        "        my_reader = csv.reader(file, delimiter=';')\n",
        "        X = []\n",
        "        for row in my_reader:\n",
        "          X.append(row)\n",
        "        #первая строка нам не нужна\n",
        "        X.pop(0)\n",
        "    #находим с помощью цикла все департаменты и оставляем только уникальные\n",
        "    all_deps = []\n",
        "    for i in range(len(X)):\n",
        "      all_deps.append(X[i][1])\n",
        "    all_deps = set(all_deps)\n",
        "    #с помощью вложенных циклов для каждого уникального департамента находим\n",
        "    #искомые данные и сохраняем в 2д список\n",
        "    zarplata = []\n",
        "    number = 0\n",
        "    future_csv = []\n",
        "    for dep in all_deps:\n",
        "      for i in range(len(X)):\n",
        "        if X[i][1] == dep:\n",
        "          zarplata.append(int(X[i][5]))\n",
        "          number +=1\n",
        "      s = [dep, number, min(zarplata), max(zarplata), \n",
        "           round(sum(zarplata)/number, 2)]\n",
        "      future_csv.append(s)\n",
        "      zarplata = []\n",
        "      number = 0\n",
        "    \n",
        "    return future_csv"
      ],
      "execution_count": 153,
      "outputs": []
    },
    {
      "cell_type": "code",
      "metadata": {
        "id": "LjAlwOaDQwav"
      },
      "source": [
        "def get_new_csv(path: string):\n",
        "      \"\"\"\n",
        "    Сохраняет статистику по департаментам в новый csv\n",
        "\n",
        "    Параметры:\n",
        "        - path: путь к csv файлу\n",
        "      \"\"\"\n",
        "      COLUMNS = ['Название', 'Численность', 'Мин ЗП', 'Макс ЗП', 'Avg ЗП']\n",
        "      with open('Новый отчет3.csv', 'w') as f:\n",
        "        write = csv.writer(f)\n",
        "        write.writerow(COLUMNS)\n",
        "        write.writerows(get_stats(path))"
      ],
      "execution_count": 154,
      "outputs": []
    },
    {
      "cell_type": "code",
      "metadata": {
        "id": "D5YZI0eH8L14"
      },
      "source": [
        "menu_for_choice()"
      ],
      "execution_count": null,
      "outputs": []
    }
  ]
}